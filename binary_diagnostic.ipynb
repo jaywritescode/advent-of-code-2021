{
  "cells": [
    {
      "cell_type": "code",
      "execution_count": null,
      "metadata": {
        "id": "Ki9YrVNvst-K"
      },
      "outputs": [],
      "source": [
        "from more_itertools import partition\n",
        "from more_itertools.more import one"
      ]
    },
    {
      "cell_type": "code",
      "execution_count": null,
      "metadata": {
        "id": "j0Hq2idKs05x"
      },
      "outputs": [],
      "source": [
        "def down_to_zero(n):\n",
        "    \"\"\"\n",
        "    Returns an iterator over positive integers that yields n - 1, n - 2, ..., 0\n",
        "    \"\"\"\n",
        "    return range(n - 1, -1, -1)"
      ]
    },
    {
      "cell_type": "markdown",
      "metadata": {
        "id": "PDMCGbJqtHfL"
      },
      "source": [
        "Binary arithmetic notes\n",
        "-----------------------\n",
        "\n",
        "* `n & (1 << k) == 0` iff the $k$-th bit of $n$ is zero.\n",
        "\n",
        "* For $n < 2^k$, `n ^ ((1 <<k) - 1)` will flip all the bits of $n$. "
      ]
    },
    {
      "cell_type": "code",
      "execution_count": null,
      "metadata": {
        "id": "sYPRCwwEs8CP"
      },
      "outputs": [],
      "source": [
        "class BinaryDiagnostic:\n",
        "    def __init__(self, puzzle):\n",
        "        self.report = [int(line.strip(), base=2) for line in puzzle]\n",
        "        self.num_bits = len(puzzle[0])\n",
        "\n",
        "    def gamma_rate_nth_bit(self, n):\n",
        "        ones_count = len(list(filter(lambda i: (i & (1 << n)) > 0, self.report)))\n",
        "        return 1 if ones_count > len(self.report) // 2 else 0\n",
        "\n",
        "    def gamma_rate(self):\n",
        "        rate = 0\n",
        "        for i in range(self.num_bits):\n",
        "            rate += (self.gamma_rate_nth_bit(i) << i)\n",
        "        return rate\n",
        "\n",
        "    # The main method for part one.\n",
        "    def power_consumption(self):\n",
        "        gamma_rate = self.gamma_rate()\n",
        "        # Note that the epsilon rate is the same as the gamma rate with all its bits flipped.\n",
        "        epsilon_rate = gamma_rate ^ ((1 << self.num_bits) - 1)\n",
        "        return gamma_rate * epsilon_rate\n",
        "\n",
        "    def oxygen_generator_rating(self):\n",
        "        rows = self.report\n",
        "        for idx in down_to_zero(self.num_bits):\n",
        "            mask = 1 << idx\n",
        "            zeroes, ones = [list(x) for x in partition(lambda val: (val & mask) > 0, rows)]\n",
        "            rows = ones if len(ones) >= len(zeroes) else zeroes\n",
        "\n",
        "            if len(rows) == 1:\n",
        "                return one(rows)\n",
        "\n",
        "    def co2_scrubber_rating(self):\n",
        "        rows = self.report\n",
        "        for idx in down_to_zero(self.num_bits):\n",
        "            mask = 1 << idx\n",
        "            zeroes, ones = [list(x) for x in partition(lambda val: (val & mask) > 0, rows)]\n",
        "            rows = zeroes if len(zeroes) <= len(ones) else ones\n",
        "\n",
        "            if len(rows) == 1:\n",
        "                return one(rows)\n",
        "\n",
        "    # The main method for part two.\n",
        "    def life_support_rating(self):\n",
        "        return self.oxygen_generator_rating() * self.co2_scrubber_rating()"
      ]
    },
    {
      "cell_type": "code",
      "execution_count": null,
      "metadata": {
        "colab": {
          "base_uri": "https://localhost:8080/",
          "height": 236
        },
        "id": "KQr883g9tvLJ",
        "outputId": "ea393cee-8303-430d-91bc-bb5e1b52e16d"
      },
      "outputs": [],
      "source": [
        "if __name__ == '__main__':\n",
        "    with open('input-03.txt') as file:\n",
        "        b = BinaryDiagnostic([line.strip() for line in file.readlines()])\n",
        "        print(b.power_consumption())\n",
        "        print(b.life_support_rating())"
      ]
    }
  ],
  "metadata": {
    "colab": {
      "collapsed_sections": [],
      "name": "binary_diagnostic.ipynb",
      "provenance": []
    },
    "kernelspec": {
      "display_name": "Python 3",
      "name": "python3"
    },
    "language_info": {
      "codemirror_mode": {
        "name": "ipython",
        "version": 3
      },
      "file_extension": ".py",
      "mimetype": "text/x-python",
      "name": "python",
      "nbconvert_exporter": "python",
      "pygments_lexer": "ipython3",
      "version": "3.9.9"
    }
  },
  "nbformat": 4,
  "nbformat_minor": 0
}
